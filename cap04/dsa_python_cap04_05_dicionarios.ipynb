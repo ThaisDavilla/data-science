{
  "nbformat": 4,
  "nbformat_minor": 0,
  "metadata": {
    "colab": {
      "provenance": []
    },
    "kernelspec": {
      "name": "python3",
      "display_name": "Python 3"
    },
    "language_info": {
      "name": "python"
    }
  },
  "cells": [
    {
      "cell_type": "markdown",
      "source": [
        "# **Data Science Academy**\n",
        "\n",
        "## **Fundamentos de Linguagem Python para análise de dados**\n",
        "\n",
        "### **Capítulo 04 - Estruturas de Dados (Dicionários)**"
      ],
      "metadata": {
        "id": "eKd839RpTndF"
      }
    },
    {
      "cell_type": "markdown",
      "source": [
        "**Trabalhando com dicionários**"
      ],
      "metadata": {
        "id": "P10Gx9lkUC7U"
      }
    },
    {
      "cell_type": "code",
      "execution_count": null,
      "metadata": {
        "id": "yt3TlxAQRJn1"
      },
      "outputs": [],
      "source": [
        "# Isro é uma lista\n",
        "estudantes_lst = [\"Pedro\", 24, \"Ana\", 22, \"Ronaldo\", 26, \"Janaina\", 25]"
      ]
    },
    {
      "cell_type": "code",
      "source": [
        "estudantes_lst"
      ],
      "metadata": {
        "colab": {
          "base_uri": "https://localhost:8080/"
        },
        "id": "s-74h-pGVQJB",
        "outputId": "1e648e99-2fb8-47c4-a36b-34e814a70f6c"
      },
      "execution_count": null,
      "outputs": [
        {
          "output_type": "execute_result",
          "data": {
            "text/plain": [
              "['Pedro', 24, 'Ana', 22, 'Ronaldo', 26, 'Janaina', 25]"
            ]
          },
          "metadata": {},
          "execution_count": 2
        }
      ]
    },
    {
      "cell_type": "code",
      "source": [
        "type(estudantes_lst)"
      ],
      "metadata": {
        "colab": {
          "base_uri": "https://localhost:8080/"
        },
        "id": "NC5ghNk3V153",
        "outputId": "17b0b4e8-0d6c-4e45-de20-82249b7947cf"
      },
      "execution_count": null,
      "outputs": [
        {
          "output_type": "execute_result",
          "data": {
            "text/plain": [
              "list"
            ]
          },
          "metadata": {},
          "execution_count": 4
        }
      ]
    },
    {
      "cell_type": "code",
      "source": [
        "# Isto é um dicionário\n",
        "estudantes_dict = {\"Pedro\": 24, \"Ana\": 22, \"Ronaldo\": 26, \"Janaina\":25}"
      ],
      "metadata": {
        "id": "BMBAniWKVUtz"
      },
      "execution_count": null,
      "outputs": []
    },
    {
      "cell_type": "code",
      "source": [
        "estudantes_dict"
      ],
      "metadata": {
        "colab": {
          "base_uri": "https://localhost:8080/"
        },
        "id": "tpxF39e8XTrN",
        "outputId": "618ad38d-77c1-4839-ec09-c21f944057d2"
      },
      "execution_count": null,
      "outputs": [
        {
          "output_type": "execute_result",
          "data": {
            "text/plain": [
              "{'Pedro': 24, 'Ana': 22, 'Ronaldo': 26, 'Janaina': 25}"
            ]
          },
          "metadata": {},
          "execution_count": 5
        }
      ]
    },
    {
      "cell_type": "code",
      "source": [
        "type(estudantes_dict)"
      ],
      "metadata": {
        "colab": {
          "base_uri": "https://localhost:8080/"
        },
        "id": "NomyO-GLXn0Q",
        "outputId": "a822d878-b7d4-486d-8192-638041722301"
      },
      "execution_count": null,
      "outputs": [
        {
          "output_type": "execute_result",
          "data": {
            "text/plain": [
              "dict"
            ]
          },
          "metadata": {},
          "execution_count": 6
        }
      ]
    },
    {
      "cell_type": "code",
      "source": [
        "estudantes_dict[\"Pedro\"]"
      ],
      "metadata": {
        "colab": {
          "base_uri": "https://localhost:8080/"
        },
        "id": "HRwy0nJIX2ME",
        "outputId": "1f6afe76-234e-4d6a-f628-9670ea547ced"
      },
      "execution_count": null,
      "outputs": [
        {
          "output_type": "execute_result",
          "data": {
            "text/plain": [
              "24"
            ]
          },
          "metadata": {},
          "execution_count": 7
        }
      ]
    },
    {
      "cell_type": "code",
      "source": [
        "estudantes_dict[\"Marcelo\"] = 23"
      ],
      "metadata": {
        "id": "OO-iYsmmYDcZ"
      },
      "execution_count": null,
      "outputs": []
    },
    {
      "cell_type": "code",
      "source": [
        "estudantes_dict"
      ],
      "metadata": {
        "colab": {
          "base_uri": "https://localhost:8080/"
        },
        "id": "pEw8StrPYVyr",
        "outputId": "6608f15f-84be-4fe9-dc1b-72aa85e71567"
      },
      "execution_count": null,
      "outputs": [
        {
          "output_type": "execute_result",
          "data": {
            "text/plain": [
              "{'Pedro': 24, 'Ana': 22, 'Ronaldo': 26, 'Janaina': 25, 'Marcelo': 23}"
            ]
          },
          "metadata": {},
          "execution_count": 10
        }
      ]
    },
    {
      "cell_type": "code",
      "source": [
        "estudantes_dict[\"Marcelo\"]"
      ],
      "metadata": {
        "colab": {
          "base_uri": "https://localhost:8080/"
        },
        "id": "4V2G59_cYM0B",
        "outputId": "8de190f9-3d9f-4be5-ba17-1dd4e8f86aa2"
      },
      "execution_count": null,
      "outputs": [
        {
          "output_type": "execute_result",
          "data": {
            "text/plain": [
              "23"
            ]
          },
          "metadata": {},
          "execution_count": 9
        }
      ]
    },
    {
      "cell_type": "code",
      "source": [
        "estudantes_dict.clear()"
      ],
      "metadata": {
        "id": "30hEmaCaYrti"
      },
      "execution_count": null,
      "outputs": []
    },
    {
      "cell_type": "code",
      "source": [
        "estudantes_dict"
      ],
      "metadata": {
        "colab": {
          "base_uri": "https://localhost:8080/"
        },
        "id": "sL2XhCamYwVe",
        "outputId": "79ecb84e-f266-4edb-e101-36574e17d8a9"
      },
      "execution_count": null,
      "outputs": [
        {
          "output_type": "execute_result",
          "data": {
            "text/plain": [
              "{}"
            ]
          },
          "metadata": {},
          "execution_count": 12
        }
      ]
    },
    {
      "cell_type": "code",
      "source": [
        "del estudantes_dict"
      ],
      "metadata": {
        "id": "eHO9jwyeYzfW"
      },
      "execution_count": null,
      "outputs": []
    },
    {
      "cell_type": "code",
      "source": [
        "estudantes_dict"
      ],
      "metadata": {
        "colab": {
          "base_uri": "https://localhost:8080/",
          "height": 141
        },
        "id": "aCfP4HrdY7bY",
        "outputId": "bf35df9f-b813-40b6-9590-228812b25ece"
      },
      "execution_count": null,
      "outputs": [
        {
          "output_type": "error",
          "ename": "NameError",
          "evalue": "name 'estudantes_dict' is not defined",
          "traceback": [
            "\u001b[0;31m---------------------------------------------------------------------------\u001b[0m",
            "\u001b[0;31mNameError\u001b[0m                                 Traceback (most recent call last)",
            "\u001b[0;32m<ipython-input-14-29b87ec1321c>\u001b[0m in \u001b[0;36m<cell line: 1>\u001b[0;34m()\u001b[0m\n\u001b[0;32m----> 1\u001b[0;31m \u001b[0mestudantes_dict\u001b[0m\u001b[0;34m\u001b[0m\u001b[0;34m\u001b[0m\u001b[0m\n\u001b[0m",
            "\u001b[0;31mNameError\u001b[0m: name 'estudantes_dict' is not defined"
          ]
        }
      ]
    },
    {
      "cell_type": "code",
      "source": [
        "estudantes =  {\"Pedro\": 24, \"Ana\": 22, \"Ronaldo\": 26, \"Janaina\":25}"
      ],
      "metadata": {
        "id": "BX7T6ih6Y9or"
      },
      "execution_count": null,
      "outputs": []
    },
    {
      "cell_type": "code",
      "source": [
        "estudantes"
      ],
      "metadata": {
        "colab": {
          "base_uri": "https://localhost:8080/"
        },
        "id": "eFf416_rZK_X",
        "outputId": "085fdd7a-15a6-4656-ae45-f94aace6dd0e"
      },
      "execution_count": null,
      "outputs": [
        {
          "output_type": "execute_result",
          "data": {
            "text/plain": [
              "{'Pedro': 24, 'Ana': 22, 'Ronaldo': 26, 'Janaina': 25}"
            ]
          },
          "metadata": {},
          "execution_count": 16
        }
      ]
    },
    {
      "cell_type": "code",
      "source": [
        "len(estudantes)"
      ],
      "metadata": {
        "colab": {
          "base_uri": "https://localhost:8080/"
        },
        "id": "sf0S7dinZNyk",
        "outputId": "40f964ae-9f33-4876-82ab-2d12accd6223"
      },
      "execution_count": null,
      "outputs": [
        {
          "output_type": "execute_result",
          "data": {
            "text/plain": [
              "4"
            ]
          },
          "metadata": {},
          "execution_count": 17
        }
      ]
    },
    {
      "cell_type": "code",
      "source": [
        "estudantes.keys()"
      ],
      "metadata": {
        "colab": {
          "base_uri": "https://localhost:8080/"
        },
        "id": "PZiEUymMZ2wk",
        "outputId": "e0a72176-60c5-435b-82fb-e65000e19c84"
      },
      "execution_count": null,
      "outputs": [
        {
          "output_type": "execute_result",
          "data": {
            "text/plain": [
              "dict_keys(['Pedro', 'Ana', 'Ronaldo', 'Janaina'])"
            ]
          },
          "metadata": {},
          "execution_count": 18
        }
      ]
    },
    {
      "cell_type": "code",
      "source": [
        "estudantes.values()"
      ],
      "metadata": {
        "colab": {
          "base_uri": "https://localhost:8080/"
        },
        "id": "zZUGUv0qaAcK",
        "outputId": "e9a752ef-73dd-4d8b-9827-3c22593ccf80"
      },
      "execution_count": null,
      "outputs": [
        {
          "output_type": "execute_result",
          "data": {
            "text/plain": [
              "dict_values([24, 22, 26, 25])"
            ]
          },
          "metadata": {},
          "execution_count": 19
        }
      ]
    },
    {
      "cell_type": "code",
      "source": [
        "estudantes.items()"
      ],
      "metadata": {
        "colab": {
          "base_uri": "https://localhost:8080/"
        },
        "id": "OEc55kGyaFmj",
        "outputId": "5880aadc-fa30-4389-ccdf-27f6a8d31b18"
      },
      "execution_count": null,
      "outputs": [
        {
          "output_type": "execute_result",
          "data": {
            "text/plain": [
              "dict_items([('Pedro', 24), ('Ana', 22), ('Ronaldo', 26), ('Janaina', 25)])"
            ]
          },
          "metadata": {},
          "execution_count": 20
        }
      ]
    },
    {
      "cell_type": "code",
      "source": [
        "estudantes2 = {\"Camila\":27, \"Adriana\":28, \"Roberto\": 26}"
      ],
      "metadata": {
        "id": "dlpAPVLNbwtX"
      },
      "execution_count": null,
      "outputs": []
    },
    {
      "cell_type": "code",
      "source": [
        "estudantes2"
      ],
      "metadata": {
        "colab": {
          "base_uri": "https://localhost:8080/"
        },
        "id": "PVTEM9eecC1C",
        "outputId": "b0529b66-2d9f-4f17-c0de-477661c64211"
      },
      "execution_count": null,
      "outputs": [
        {
          "output_type": "execute_result",
          "data": {
            "text/plain": [
              "{'Camila': 27, 'Adriana': 28, 'Roberto': 26}"
            ]
          },
          "metadata": {},
          "execution_count": 22
        }
      ]
    },
    {
      "cell_type": "code",
      "source": [
        "estudantes.update(estudantes2)"
      ],
      "metadata": {
        "id": "HcHnum_bcJr7"
      },
      "execution_count": null,
      "outputs": []
    },
    {
      "cell_type": "code",
      "source": [
        "estudantes"
      ],
      "metadata": {
        "colab": {
          "base_uri": "https://localhost:8080/"
        },
        "id": "tPlLPT13cRgC",
        "outputId": "945b36b7-2edb-4041-a27a-cddd6ab66296"
      },
      "execution_count": null,
      "outputs": [
        {
          "output_type": "execute_result",
          "data": {
            "text/plain": [
              "{'Pedro': 24,\n",
              " 'Ana': 22,\n",
              " 'Ronaldo': 26,\n",
              " 'Janaina': 25,\n",
              " 'Camila': 27,\n",
              " 'Adriana': 28,\n",
              " 'Roberto': 26}"
            ]
          },
          "metadata": {},
          "execution_count": 25
        }
      ]
    },
    {
      "cell_type": "code",
      "source": [
        "dic1 = {}"
      ],
      "metadata": {
        "id": "bxKrDhZHce7r"
      },
      "execution_count": null,
      "outputs": []
    },
    {
      "cell_type": "code",
      "source": [
        "dic1"
      ],
      "metadata": {
        "colab": {
          "base_uri": "https://localhost:8080/"
        },
        "id": "65nrBfv5cil0",
        "outputId": "eba0b9a2-2fd3-4219-9381-65018dcc8d98"
      },
      "execution_count": null,
      "outputs": [
        {
          "output_type": "execute_result",
          "data": {
            "text/plain": [
              "{}"
            ]
          },
          "metadata": {},
          "execution_count": 36
        }
      ]
    },
    {
      "cell_type": "code",
      "source": [
        "dic1[\"chave_um\"] = 2"
      ],
      "metadata": {
        "id": "LAfc6dwLclU-"
      },
      "execution_count": null,
      "outputs": []
    },
    {
      "cell_type": "code",
      "source": [
        "print(dic1)"
      ],
      "metadata": {
        "colab": {
          "base_uri": "https://localhost:8080/"
        },
        "id": "xPHq3xkgcv_g",
        "outputId": "5e2b4981-01f0-45e5-843f-2059efbe9c8e"
      },
      "execution_count": null,
      "outputs": [
        {
          "output_type": "stream",
          "name": "stdout",
          "text": [
            "{'chave_um': 2}\n"
          ]
        }
      ]
    },
    {
      "cell_type": "code",
      "source": [
        "dic1[10] = 5"
      ],
      "metadata": {
        "id": "78kTkrKSc0Cr"
      },
      "execution_count": null,
      "outputs": []
    },
    {
      "cell_type": "code",
      "source": [
        "dic1"
      ],
      "metadata": {
        "colab": {
          "base_uri": "https://localhost:8080/"
        },
        "id": "D90arN4_c6HI",
        "outputId": "0c1cf8a3-77ce-4117-fa6f-83f14ded68fb"
      },
      "execution_count": null,
      "outputs": [
        {
          "output_type": "execute_result",
          "data": {
            "text/plain": [
              "{'chave_um': 2, 10: 5}"
            ]
          },
          "metadata": {},
          "execution_count": 40
        }
      ]
    },
    {
      "cell_type": "code",
      "source": [
        "dic1[9.13] = \"Python\""
      ],
      "metadata": {
        "id": "6PC4CoGbc9rZ"
      },
      "execution_count": null,
      "outputs": []
    },
    {
      "cell_type": "code",
      "source": [
        "dic1"
      ],
      "metadata": {
        "colab": {
          "base_uri": "https://localhost:8080/"
        },
        "id": "2aB4Kx-3dIMB",
        "outputId": "2dc1e8f5-653f-4f41-b9ff-ea182d0dee8b"
      },
      "execution_count": null,
      "outputs": [
        {
          "output_type": "execute_result",
          "data": {
            "text/plain": [
              "{'chave_um': 2, 10: 5, 9.13: 'Python'}"
            ]
          },
          "metadata": {},
          "execution_count": 42
        }
      ]
    },
    {
      "cell_type": "code",
      "source": [
        "dic1[\"teste\"] = 5"
      ],
      "metadata": {
        "id": "5ggVLbRhdLgs"
      },
      "execution_count": null,
      "outputs": []
    },
    {
      "cell_type": "code",
      "source": [
        "dic1"
      ],
      "metadata": {
        "colab": {
          "base_uri": "https://localhost:8080/"
        },
        "id": "vlEWOI9xdld8",
        "outputId": "b4936fb0-73f4-4d75-ae32-9257d1f419f1"
      },
      "execution_count": null,
      "outputs": [
        {
          "output_type": "execute_result",
          "data": {
            "text/plain": [
              "{'chave_um': 2, 10: 5, 9.13: 'Python', 'teste': 5}"
            ]
          },
          "metadata": {},
          "execution_count": 44
        }
      ]
    },
    {
      "cell_type": "code",
      "source": [
        "dict1 = {}"
      ],
      "metadata": {
        "id": "1-LxeHUjdomh"
      },
      "execution_count": null,
      "outputs": []
    },
    {
      "cell_type": "code",
      "source": [
        "dict1"
      ],
      "metadata": {
        "colab": {
          "base_uri": "https://localhost:8080/"
        },
        "id": "nsy2NZKvdu6E",
        "outputId": "42345d3a-d20c-4070-d7a3-e74efd0efca5"
      },
      "execution_count": null,
      "outputs": [
        {
          "output_type": "execute_result",
          "data": {
            "text/plain": [
              "{}"
            ]
          },
          "metadata": {},
          "execution_count": 46
        }
      ]
    },
    {
      "cell_type": "code",
      "source": [
        "dict1[\"teste\"] = 10"
      ],
      "metadata": {
        "id": "w_lKvnDseI9o"
      },
      "execution_count": null,
      "outputs": []
    },
    {
      "cell_type": "code",
      "source": [
        "dic1[\"key\"] = \"teste\""
      ],
      "metadata": {
        "id": "OKnYicGPePAF"
      },
      "execution_count": null,
      "outputs": []
    },
    {
      "cell_type": "code",
      "source": [
        "# Atenção, pois a chave e valor podem ser iguais, mas representam coisas diferentes.\n",
        "dic1"
      ],
      "metadata": {
        "colab": {
          "base_uri": "https://localhost:8080/"
        },
        "id": "Pd9U_peXeYhF",
        "outputId": "4490be66-715b-4641-bc4d-d9156cc745da"
      },
      "execution_count": null,
      "outputs": [
        {
          "output_type": "execute_result",
          "data": {
            "text/plain": [
              "{'chave_um': 2, 10: 5, 9.13: 'Python', 'teste': 5, 'key': 'teste'}"
            ]
          },
          "metadata": {},
          "execution_count": 49
        }
      ]
    },
    {
      "cell_type": "code",
      "source": [
        "dict2 = {}"
      ],
      "metadata": {
        "id": "GShtVFgXerMN"
      },
      "execution_count": null,
      "outputs": []
    },
    {
      "cell_type": "code",
      "source": [
        "dict2[\"key1\"] = \"Data Science\""
      ],
      "metadata": {
        "id": "53rZP5O5evW-"
      },
      "execution_count": null,
      "outputs": []
    },
    {
      "cell_type": "code",
      "source": [
        "dict2[\"key2\"] = 10"
      ],
      "metadata": {
        "id": "2p-8gCdFe5G9"
      },
      "execution_count": null,
      "outputs": []
    },
    {
      "cell_type": "code",
      "source": [
        "dict2[\"key3\"] = 100"
      ],
      "metadata": {
        "id": "Snv3MTwefA35"
      },
      "execution_count": null,
      "outputs": []
    },
    {
      "cell_type": "code",
      "source": [
        "dict2"
      ],
      "metadata": {
        "colab": {
          "base_uri": "https://localhost:8080/"
        },
        "id": "y1R2EgeJfKXi",
        "outputId": "24f75b95-2d1b-4499-ad61-48ebd90f6c06"
      },
      "execution_count": null,
      "outputs": [
        {
          "output_type": "execute_result",
          "data": {
            "text/plain": [
              "{'key1': 'Data Science', 'key2': 10, 'key3': 100}"
            ]
          },
          "metadata": {},
          "execution_count": 54
        }
      ]
    },
    {
      "cell_type": "code",
      "source": [
        "a = dict2[\"key1\"]"
      ],
      "metadata": {
        "id": "lyvWyJ77fX8h"
      },
      "execution_count": null,
      "outputs": []
    },
    {
      "cell_type": "code",
      "source": [
        "b = dict2[\"key2\"]"
      ],
      "metadata": {
        "id": "9TOOJC00f4Fn"
      },
      "execution_count": null,
      "outputs": []
    },
    {
      "cell_type": "code",
      "source": [
        "c = dict2[\"key3\"]"
      ],
      "metadata": {
        "id": "0X_V8wKHgAMw"
      },
      "execution_count": null,
      "outputs": []
    },
    {
      "cell_type": "code",
      "source": [
        "a, b, c"
      ],
      "metadata": {
        "colab": {
          "base_uri": "https://localhost:8080/"
        },
        "id": "Yng9ID2SgFRI",
        "outputId": "ac5e5319-4fa3-41c8-cc48-e57b41b4abff"
      },
      "execution_count": null,
      "outputs": [
        {
          "output_type": "execute_result",
          "data": {
            "text/plain": [
              "('Data Science', 10, 100)"
            ]
          },
          "metadata": {},
          "execution_count": 60
        }
      ]
    },
    {
      "cell_type": "code",
      "source": [
        "# Dicionário de listas\n",
        "dict3 = {'chave1':1230, 'chave2':[22, 453, 73.4], 'chave3':['picanha', 'fraldinha', 'alcatra']}"
      ],
      "metadata": {
        "id": "f0eB4GYBg2m0"
      },
      "execution_count": null,
      "outputs": []
    },
    {
      "cell_type": "code",
      "source": [
        "dict3"
      ],
      "metadata": {
        "colab": {
          "base_uri": "https://localhost:8080/"
        },
        "id": "TpAv_HQJhZ9d",
        "outputId": "e7819043-3440-40d7-ad69-4dbff7a47c25"
      },
      "execution_count": null,
      "outputs": [
        {
          "output_type": "execute_result",
          "data": {
            "text/plain": [
              "{'chave1': 1230,\n",
              " 'chave2': [22, 453, 73.4],\n",
              " 'chave3': ['picanha', 'fraldinha', 'alcatra']}"
            ]
          },
          "metadata": {},
          "execution_count": 62
        }
      ]
    },
    {
      "cell_type": "code",
      "source": [
        "dict3['chave2']"
      ],
      "metadata": {
        "colab": {
          "base_uri": "https://localhost:8080/"
        },
        "id": "ta7dezovhdtU",
        "outputId": "e931f3e8-8fd5-43b3-de15-67c5902aa917"
      },
      "execution_count": null,
      "outputs": [
        {
          "output_type": "execute_result",
          "data": {
            "text/plain": [
              "[22, 453, 73.4]"
            ]
          },
          "metadata": {},
          "execution_count": 63
        }
      ]
    },
    {
      "cell_type": "code",
      "source": [
        "# Acessando um item da lista dentro do dicionário\n",
        "dict3['chave3'][0].upper()"
      ],
      "metadata": {
        "id": "foSNcLWmhoOi",
        "colab": {
          "base_uri": "https://localhost:8080/",
          "height": 35
        },
        "outputId": "6b7f4f5b-f7d9-48b1-9e0d-7aa7209b70ef"
      },
      "execution_count": 64,
      "outputs": [
        {
          "output_type": "execute_result",
          "data": {
            "text/plain": [
              "'PICANHA'"
            ],
            "application/vnd.google.colaboratory.intrinsic+json": {
              "type": "string"
            }
          },
          "metadata": {},
          "execution_count": 64
        }
      ]
    },
    {
      "cell_type": "code",
      "source": [
        "# Operações com itens da lista dentro do dicionário\n",
        "varl = dict3['chave2'][0] - 2"
      ],
      "metadata": {
        "id": "t_vLX21xsXKu"
      },
      "execution_count": 65,
      "outputs": []
    },
    {
      "cell_type": "code",
      "source": [
        "varl"
      ],
      "metadata": {
        "colab": {
          "base_uri": "https://localhost:8080/"
        },
        "id": "NyhYmvCtssRw",
        "outputId": "09f65655-3c12-48ea-a48a-34ef52ba8064"
      },
      "execution_count": 66,
      "outputs": [
        {
          "output_type": "execute_result",
          "data": {
            "text/plain": [
              "20"
            ]
          },
          "metadata": {},
          "execution_count": 66
        }
      ]
    },
    {
      "cell_type": "code",
      "source": [
        "# Duas operações no mesmo comando para atualizar um item dentro da lista\n",
        "dict3['chave2'][0] -= 2"
      ],
      "metadata": {
        "id": "Bhn4pS9HsvNv"
      },
      "execution_count": 67,
      "outputs": []
    },
    {
      "cell_type": "code",
      "source": [
        "dict3"
      ],
      "metadata": {
        "colab": {
          "base_uri": "https://localhost:8080/"
        },
        "id": "eruZnfsNt_k3",
        "outputId": "57bcbb65-990f-4b72-ecc1-8e445d8e0368"
      },
      "execution_count": 68,
      "outputs": [
        {
          "output_type": "execute_result",
          "data": {
            "text/plain": [
              "{'chave1': 1230,\n",
              " 'chave2': [20, 453, 73.4],\n",
              " 'chave3': ['picanha', 'fraldinha', 'alcatra']}"
            ]
          },
          "metadata": {},
          "execution_count": 68
        }
      ]
    },
    {
      "cell_type": "markdown",
      "source": [
        "**Criando Dicionários Aninhados**"
      ],
      "metadata": {
        "id": "SQMUwfqcuDuX"
      }
    },
    {
      "cell_type": "code",
      "source": [
        "# Criando dicionários aninhados\n",
        "dict_aninhado = {'key1':{'key2_aninhada':{'key3_aninhada': 'Dict aninhado em Python'}}}"
      ],
      "metadata": {
        "id": "yQJuHa-FuItn"
      },
      "execution_count": 72,
      "outputs": []
    },
    {
      "cell_type": "code",
      "source": [
        "dict_aninhado"
      ],
      "metadata": {
        "colab": {
          "base_uri": "https://localhost:8080/"
        },
        "id": "3t5OHiC7u2Di",
        "outputId": "60c384e7-7e32-467f-ea60-c2930eb85490"
      },
      "execution_count": 73,
      "outputs": [
        {
          "output_type": "execute_result",
          "data": {
            "text/plain": [
              "{'key1': {'key2_aninhada': {'key3_aninhada': 'Dict aninhado em Python'}}}"
            ]
          },
          "metadata": {},
          "execution_count": 73
        }
      ]
    },
    {
      "cell_type": "code",
      "source": [
        "dict_aninhado['key1']['key2_aninhada']['key3_aninhada']"
      ],
      "metadata": {
        "colab": {
          "base_uri": "https://localhost:8080/",
          "height": 35
        },
        "id": "mhUoAr-Su5aH",
        "outputId": "022d0471-e13b-4033-e00c-4047bcfae55c"
      },
      "execution_count": 74,
      "outputs": [
        {
          "output_type": "execute_result",
          "data": {
            "text/plain": [
              "'Dict aninhado em Python'"
            ],
            "application/vnd.google.colaboratory.intrinsic+json": {
              "type": "string"
            }
          },
          "metadata": {},
          "execution_count": 74
        }
      ]
    }
  ]
}