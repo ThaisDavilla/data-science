{
  "nbformat": 4,
  "nbformat_minor": 0,
  "metadata": {
    "colab": {
      "provenance": []
    },
    "kernelspec": {
      "name": "python3",
      "display_name": "Python 3"
    },
    "language_info": {
      "name": "python"
    }
  },
  "cells": [
    {
      "cell_type": "markdown",
      "source": [
        "# **Data Science Academy**\n",
        "## Fundamentos de Linguagem Python para Análise de Dados e Data **Science**\n",
        "### **Capítulo 4 - Estruturas de Dados (Listas)**"
      ],
      "metadata": {
        "id": "Kli7BoSfdrx1"
      }
    },
    {
      "cell_type": "markdown",
      "source": [
        "**Trabalhando com Listas**"
      ],
      "metadata": {
        "id": "K3_cVqwpeKgi"
      }
    },
    {
      "cell_type": "code",
      "execution_count": null,
      "metadata": {
        "id": "LJ3lNBM3YISN"
      },
      "outputs": [],
      "source": [
        "lista_1 = [\"arroz, frango, tomate, leite\"]"
      ]
    },
    {
      "cell_type": "code",
      "source": [
        "type(lista_1)"
      ],
      "metadata": {
        "colab": {
          "base_uri": "https://localhost:8080/"
        },
        "id": "EzBS2Y_Tepqh",
        "outputId": "ca018a94-718f-4e05-bf83-f79ece09cecf"
      },
      "execution_count": null,
      "outputs": [
        {
          "output_type": "execute_result",
          "data": {
            "text/plain": [
              "list"
            ]
          },
          "metadata": {},
          "execution_count": 2
        }
      ]
    },
    {
      "cell_type": "code",
      "source": [
        "print(lista_1)"
      ],
      "metadata": {
        "colab": {
          "base_uri": "https://localhost:8080/"
        },
        "id": "-CuI8AJzfIBZ",
        "outputId": "514a0276-dcac-4028-a94e-c601889418b6"
      },
      "execution_count": null,
      "outputs": [
        {
          "output_type": "stream",
          "name": "stdout",
          "text": [
            "['arroz, frango, tomate, leite']\n"
          ]
        }
      ]
    },
    {
      "cell_type": "code",
      "source": [
        "lista_2 = [\"arroz\", \"frango\", \"tomate\", \"leite\"]"
      ],
      "metadata": {
        "id": "pIwTe5-kfOLy"
      },
      "execution_count": null,
      "outputs": []
    },
    {
      "cell_type": "code",
      "source": [
        "type(lista_2)"
      ],
      "metadata": {
        "colab": {
          "base_uri": "https://localhost:8080/"
        },
        "id": "VNP6mqoMfetc",
        "outputId": "4ef38c2b-a094-40fc-e99d-60b1e139e7ad"
      },
      "execution_count": null,
      "outputs": [
        {
          "output_type": "execute_result",
          "data": {
            "text/plain": [
              "list"
            ]
          },
          "metadata": {},
          "execution_count": 11
        }
      ]
    },
    {
      "cell_type": "code",
      "source": [
        "print(lista_2)"
      ],
      "metadata": {
        "colab": {
          "base_uri": "https://localhost:8080/"
        },
        "id": "uqtoZmD1fiaK",
        "outputId": "cce1cbe3-1861-42ad-ba11-54f8c7a1012e"
      },
      "execution_count": null,
      "outputs": [
        {
          "output_type": "stream",
          "name": "stdout",
          "text": [
            "['arroz', 'frango', 'tomate', 'leite']\n"
          ]
        }
      ]
    },
    {
      "cell_type": "code",
      "source": [
        "lista_3 = [23, 100, \"Cientista de Dados\"]"
      ],
      "metadata": {
        "id": "RBisUc9Rfnrd"
      },
      "execution_count": null,
      "outputs": []
    },
    {
      "cell_type": "code",
      "source": [
        "type(lista_3)"
      ],
      "metadata": {
        "colab": {
          "base_uri": "https://localhost:8080/"
        },
        "id": "NtvCLmFIgKai",
        "outputId": "478ae1a9-a447-4d03-b448-10d3b3b0bf44"
      },
      "execution_count": null,
      "outputs": [
        {
          "output_type": "execute_result",
          "data": {
            "text/plain": [
              "list"
            ]
          },
          "metadata": {},
          "execution_count": 14
        }
      ]
    },
    {
      "cell_type": "code",
      "source": [
        "print(lista_3)"
      ],
      "metadata": {
        "colab": {
          "base_uri": "https://localhost:8080/"
        },
        "id": "ilh3YtwmgaP1",
        "outputId": "988b559e-963a-41ff-c8ae-9e16433228b7"
      },
      "execution_count": null,
      "outputs": [
        {
          "output_type": "stream",
          "name": "stdout",
          "text": [
            "[23, 100, 'Cientista de Dados']\n"
          ]
        }
      ]
    },
    {
      "cell_type": "code",
      "source": [
        "# Atribuindo cada valor da lista a uma variável.\n",
        "item1 = lista_3[0]\n",
        "item2 = lista_3[1]\n",
        "item3 = lista_3[2]"
      ],
      "metadata": {
        "id": "1Qp11u1ngiqs"
      },
      "execution_count": null,
      "outputs": []
    },
    {
      "cell_type": "code",
      "source": [
        "print(item1, item2, item3)"
      ],
      "metadata": {
        "colab": {
          "base_uri": "https://localhost:8080/"
        },
        "id": "QD4VYUPag9z1",
        "outputId": "e24c0240-a0e1-4915-b676-1b7e943d49be"
      },
      "execution_count": null,
      "outputs": [
        {
          "output_type": "stream",
          "name": "stdout",
          "text": [
            "23 100 Cientista de Dados\n"
          ]
        }
      ]
    },
    {
      "cell_type": "markdown",
      "source": [
        "**Atualizando um item da lista**"
      ],
      "metadata": {
        "id": "yTD2HKh_h1oD"
      }
    },
    {
      "cell_type": "code",
      "source": [
        "lista_2"
      ],
      "metadata": {
        "colab": {
          "base_uri": "https://localhost:8080/"
        },
        "id": "aF1IoQ13h8cr",
        "outputId": "daf6e1d5-0b9e-4bb7-f46d-6748920a0a7e"
      },
      "execution_count": null,
      "outputs": [
        {
          "output_type": "execute_result",
          "data": {
            "text/plain": [
              "['arroz', 'frango', 'tomate', 'leite']"
            ]
          },
          "metadata": {},
          "execution_count": 18
        }
      ]
    },
    {
      "cell_type": "code",
      "source": [
        "lista_2[2]"
      ],
      "metadata": {
        "colab": {
          "base_uri": "https://localhost:8080/",
          "height": 35
        },
        "id": "LHmHNs7yiANB",
        "outputId": "994b3c53-8142-45cd-cd21-a168d776b672"
      },
      "execution_count": null,
      "outputs": [
        {
          "output_type": "execute_result",
          "data": {
            "text/plain": [
              "'tomate'"
            ],
            "application/vnd.google.colaboratory.intrinsic+json": {
              "type": "string"
            }
          },
          "metadata": {},
          "execution_count": 19
        }
      ]
    },
    {
      "cell_type": "code",
      "source": [
        "# Atualizando um item da lista\n",
        "lista_2[2] = \"chocolate\""
      ],
      "metadata": {
        "id": "SwjfgYM6iqle"
      },
      "execution_count": null,
      "outputs": []
    },
    {
      "cell_type": "code",
      "source": [
        "lista_2"
      ],
      "metadata": {
        "colab": {
          "base_uri": "https://localhost:8080/"
        },
        "id": "AA_eeko7i4EL",
        "outputId": "691d9aaa-2ee3-481b-c741-987e77f8d343"
      },
      "execution_count": null,
      "outputs": [
        {
          "output_type": "execute_result",
          "data": {
            "text/plain": [
              "['arroz', 'frango', 'chocolate', 'leite']"
            ]
          },
          "metadata": {},
          "execution_count": 21
        }
      ]
    },
    {
      "cell_type": "markdown",
      "source": [
        "**Deletando um item da lista**"
      ],
      "metadata": {
        "id": "CthWDsQWjFsq"
      }
    },
    {
      "cell_type": "code",
      "source": [
        "lista_2"
      ],
      "metadata": {
        "colab": {
          "base_uri": "https://localhost:8080/"
        },
        "id": "LUabUg4jjTIH",
        "outputId": "bc53636a-6382-4f40-8d38-1a651c372555"
      },
      "execution_count": null,
      "outputs": [
        {
          "output_type": "execute_result",
          "data": {
            "text/plain": [
              "['arroz', 'frango', 'chocolate', 'leite']"
            ]
          },
          "metadata": {},
          "execution_count": 22
        }
      ]
    },
    {
      "cell_type": "code",
      "source": [
        "del lista_2[3]"
      ],
      "metadata": {
        "id": "YQYkGHEajhXr"
      },
      "execution_count": null,
      "outputs": []
    },
    {
      "cell_type": "code",
      "source": [
        "lista_2"
      ],
      "metadata": {
        "colab": {
          "base_uri": "https://localhost:8080/"
        },
        "id": "_SFrGvxxjmEg",
        "outputId": "3fb356c1-fe81-45de-9595-2a51ba8d8ee9"
      },
      "execution_count": null,
      "outputs": [
        {
          "output_type": "execute_result",
          "data": {
            "text/plain": [
              "['arroz', 'frango', 'chocolate']"
            ]
          },
          "metadata": {},
          "execution_count": 24
        }
      ]
    },
    {
      "cell_type": "markdown",
      "source": [
        "Listas de listas (Listas aninhadas)"
      ],
      "metadata": {
        "id": "iTTkb1G8j2in"
      }
    },
    {
      "cell_type": "code",
      "source": [
        "# Criando uma lista de listas\n",
        "listas = [ [1,2,3], [10,15,14], [10.1, 8.7, 2.3]]"
      ],
      "metadata": {
        "id": "pb5wWOM1j7xU"
      },
      "execution_count": null,
      "outputs": []
    },
    {
      "cell_type": "code",
      "source": [
        "print(listas)"
      ],
      "metadata": {
        "colab": {
          "base_uri": "https://localhost:8080/"
        },
        "id": "9KR_lYNJkPmR",
        "outputId": "b6612a81-243d-4cbb-8726-f17f3d0927fa"
      },
      "execution_count": null,
      "outputs": [
        {
          "output_type": "stream",
          "name": "stdout",
          "text": [
            "[[1, 2, 3], [10, 15, 14], [10.1, 8.7, 2.3]]\n"
          ]
        }
      ]
    },
    {
      "cell_type": "code",
      "source": [
        "# Atribuindo um item da lista a uma variável\n",
        "a = listas[0]"
      ],
      "metadata": {
        "id": "Rq2KHHDckTnh"
      },
      "execution_count": null,
      "outputs": []
    },
    {
      "cell_type": "code",
      "source": [
        "a"
      ],
      "metadata": {
        "colab": {
          "base_uri": "https://localhost:8080/"
        },
        "id": "yFZmgPe3keOY",
        "outputId": "ee14f146-a4a7-48c0-de77-0d98937a6d44"
      },
      "execution_count": null,
      "outputs": [
        {
          "output_type": "execute_result",
          "data": {
            "text/plain": [
              "[1, 2, 3]"
            ]
          },
          "metadata": {},
          "execution_count": 28
        }
      ]
    },
    {
      "cell_type": "code",
      "source": [
        "b = a[0]"
      ],
      "metadata": {
        "id": "kFVEN1WEkgLO"
      },
      "execution_count": null,
      "outputs": []
    },
    {
      "cell_type": "code",
      "source": [
        "list1 = listas[1]"
      ],
      "metadata": {
        "id": "os7t69uIkphd"
      },
      "execution_count": null,
      "outputs": []
    },
    {
      "cell_type": "code",
      "source": [
        "list1"
      ],
      "metadata": {
        "colab": {
          "base_uri": "https://localhost:8080/"
        },
        "id": "aYPqu0-zkudt",
        "outputId": "b63bf764-4b63-4069-daba-9985aa8639b5"
      },
      "execution_count": null,
      "outputs": [
        {
          "output_type": "execute_result",
          "data": {
            "text/plain": [
              "[10, 15, 14]"
            ]
          },
          "metadata": {},
          "execution_count": 31
        }
      ]
    },
    {
      "cell_type": "code",
      "source": [
        "valor_1_0 = list1[0]"
      ],
      "metadata": {
        "id": "68QlQ98-kyhC"
      },
      "execution_count": null,
      "outputs": []
    },
    {
      "cell_type": "code",
      "source": [
        "print(valor_1_0)"
      ],
      "metadata": {
        "colab": {
          "base_uri": "https://localhost:8080/"
        },
        "id": "km_inskaleul",
        "outputId": "a902f796-0e45-4d0f-e1af-acaa133f13c8"
      },
      "execution_count": null,
      "outputs": [
        {
          "output_type": "stream",
          "name": "stdout",
          "text": [
            "10\n"
          ]
        }
      ]
    },
    {
      "cell_type": "code",
      "source": [
        "valor_1_2 = list1[2]"
      ],
      "metadata": {
        "id": "BHgWzp50lmTC"
      },
      "execution_count": null,
      "outputs": []
    },
    {
      "cell_type": "code",
      "source": [
        "valor_1_2"
      ],
      "metadata": {
        "colab": {
          "base_uri": "https://localhost:8080/"
        },
        "id": "E_A2GK1Els1Q",
        "outputId": "66b5edf7-309d-46f5-de25-80740c297d39"
      },
      "execution_count": null,
      "outputs": [
        {
          "output_type": "execute_result",
          "data": {
            "text/plain": [
              "14"
            ]
          },
          "metadata": {},
          "execution_count": 41
        }
      ]
    },
    {
      "cell_type": "code",
      "source": [
        "list2 = listas[2]"
      ],
      "metadata": {
        "id": "0z1g7x9ul93C"
      },
      "execution_count": null,
      "outputs": []
    },
    {
      "cell_type": "code",
      "source": [
        "list2"
      ],
      "metadata": {
        "colab": {
          "base_uri": "https://localhost:8080/"
        },
        "id": "EU1iBxNsmB08",
        "outputId": "b06cb635-6438-42b0-f134-54bc4962fb9c"
      },
      "execution_count": null,
      "outputs": [
        {
          "output_type": "execute_result",
          "data": {
            "text/plain": [
              "[10.1, 8.7, 2.3]"
            ]
          },
          "metadata": {},
          "execution_count": 38
        }
      ]
    },
    {
      "cell_type": "code",
      "source": [
        "valor_2_0 = list2[0]"
      ],
      "metadata": {
        "id": "sY-nsyR_mkUe"
      },
      "execution_count": null,
      "outputs": []
    },
    {
      "cell_type": "code",
      "source": [
        "valor_2_0"
      ],
      "metadata": {
        "colab": {
          "base_uri": "https://localhost:8080/"
        },
        "id": "BVi0B5LGmqdI",
        "outputId": "42c23f54-ee69-4476-c7c1-64ccb1a9aaca"
      },
      "execution_count": null,
      "outputs": [
        {
          "output_type": "execute_result",
          "data": {
            "text/plain": [
              "10.1"
            ]
          },
          "metadata": {},
          "execution_count": 43
        }
      ]
    },
    {
      "cell_type": "markdown",
      "source": [
        "**Operações com listas**"
      ],
      "metadata": {
        "id": "u7H7BZOmmuvX"
      }
    },
    {
      "cell_type": "code",
      "source": [
        "# criando uma lista aninhada (lista de listas)\n",
        "listas = [ [1,2,3], [10,15,14], [10.1,8.7,2.3]]"
      ],
      "metadata": {
        "id": "Rp9Yz8HcmyVr"
      },
      "execution_count": null,
      "outputs": []
    },
    {
      "cell_type": "code",
      "source": [
        "listas"
      ],
      "metadata": {
        "colab": {
          "base_uri": "https://localhost:8080/"
        },
        "id": "JzSQjkdNnOlT",
        "outputId": "b48c93ab-c173-4560-cecd-e96187123edd"
      },
      "execution_count": null,
      "outputs": [
        {
          "output_type": "execute_result",
          "data": {
            "text/plain": [
              "[[1, 2, 3], [10, 15, 14], [10.1, 8.7, 2.3]]"
            ]
          },
          "metadata": {},
          "execution_count": 45
        }
      ]
    },
    {
      "cell_type": "code",
      "source": [
        "a = listas[0][0]"
      ],
      "metadata": {
        "id": "_8Ruzf7OnY1G"
      },
      "execution_count": null,
      "outputs": []
    },
    {
      "cell_type": "code",
      "source": [
        "a"
      ],
      "metadata": {
        "colab": {
          "base_uri": "https://localhost:8080/"
        },
        "id": "QStmyEybnexF",
        "outputId": "f4c43949-dd7b-432d-b15f-3bfefb216295"
      },
      "execution_count": null,
      "outputs": [
        {
          "output_type": "execute_result",
          "data": {
            "text/plain": [
              "1"
            ]
          },
          "metadata": {},
          "execution_count": 47
        }
      ]
    },
    {
      "cell_type": "code",
      "source": [
        "b = listas[1][2]"
      ],
      "metadata": {
        "id": "mbK_xAx6ngyQ"
      },
      "execution_count": null,
      "outputs": []
    },
    {
      "cell_type": "code",
      "source": [
        "b"
      ],
      "metadata": {
        "colab": {
          "base_uri": "https://localhost:8080/"
        },
        "id": "KDUekfzZnnP6",
        "outputId": "d5d56505-957f-4eb2-efdb-91b226e88bb0"
      },
      "execution_count": null,
      "outputs": [
        {
          "output_type": "execute_result",
          "data": {
            "text/plain": [
              "14"
            ]
          },
          "metadata": {},
          "execution_count": 49
        }
      ]
    },
    {
      "cell_type": "code",
      "source": [
        "c = listas[0][2] + 10"
      ],
      "metadata": {
        "id": "ZJW1ptnJnpTe"
      },
      "execution_count": null,
      "outputs": []
    },
    {
      "cell_type": "code",
      "source": [
        "c"
      ],
      "metadata": {
        "colab": {
          "base_uri": "https://localhost:8080/"
        },
        "id": "lnz0mJcJnwHi",
        "outputId": "bace84ff-f86e-4ec4-8efc-96323dfa2955"
      },
      "execution_count": null,
      "outputs": [
        {
          "output_type": "execute_result",
          "data": {
            "text/plain": [
              "13"
            ]
          },
          "metadata": {},
          "execution_count": 51
        }
      ]
    },
    {
      "cell_type": "code",
      "source": [
        "d = 10"
      ],
      "metadata": {
        "id": "wKv6PGkonzdu"
      },
      "execution_count": null,
      "outputs": []
    },
    {
      "cell_type": "code",
      "source": [
        "d"
      ],
      "metadata": {
        "colab": {
          "base_uri": "https://localhost:8080/"
        },
        "id": "jPWWSGz5n17K",
        "outputId": "a8cb9cc5-d045-40bb-e267-e0537f7278a7"
      },
      "execution_count": null,
      "outputs": [
        {
          "output_type": "execute_result",
          "data": {
            "text/plain": [
              "10"
            ]
          },
          "metadata": {},
          "execution_count": 53
        }
      ]
    },
    {
      "cell_type": "code",
      "source": [
        "e = d * listas[2][0]"
      ],
      "metadata": {
        "id": "5R84hs86oE8V"
      },
      "execution_count": null,
      "outputs": []
    },
    {
      "cell_type": "code",
      "source": [
        "e"
      ],
      "metadata": {
        "colab": {
          "base_uri": "https://localhost:8080/"
        },
        "id": "JJxkXMOCoNvw",
        "outputId": "9df3ce8a-c77d-4a63-99a0-b9571b889dd4"
      },
      "execution_count": null,
      "outputs": [
        {
          "output_type": "execute_result",
          "data": {
            "text/plain": [
              "101.0"
            ]
          },
          "metadata": {},
          "execution_count": 55
        }
      ]
    },
    {
      "cell_type": "markdown",
      "source": [
        "**Concatenando Listas**"
      ],
      "metadata": {
        "id": "7_vpIBgFoP8E"
      }
    },
    {
      "cell_type": "code",
      "source": [
        "lista_s1 = [34,32,56]"
      ],
      "metadata": {
        "id": "oCuV9NwEoSyN"
      },
      "execution_count": 1,
      "outputs": []
    },
    {
      "cell_type": "code",
      "source": [
        "lista_s1"
      ],
      "metadata": {
        "id": "MiddIZP0opYY",
        "colab": {
          "base_uri": "https://localhost:8080/"
        },
        "outputId": "bf3fe101-65bb-4369-b8c2-c62ed0fa95a2"
      },
      "execution_count": 2,
      "outputs": [
        {
          "output_type": "execute_result",
          "data": {
            "text/plain": [
              "[34, 32, 56]"
            ]
          },
          "metadata": {},
          "execution_count": 2
        }
      ]
    },
    {
      "cell_type": "code",
      "source": [
        "lista_s2 = [21,90,51]"
      ],
      "metadata": {
        "id": "OvoAJVeUDqOE"
      },
      "execution_count": 3,
      "outputs": []
    },
    {
      "cell_type": "code",
      "source": [
        "lista_s2"
      ],
      "metadata": {
        "colab": {
          "base_uri": "https://localhost:8080/"
        },
        "id": "hvrG8944Ev7Q",
        "outputId": "55ff2311-fac8-4dce-bbad-d3b63931551c"
      },
      "execution_count": 4,
      "outputs": [
        {
          "output_type": "execute_result",
          "data": {
            "text/plain": [
              "[21, 90, 51]"
            ]
          },
          "metadata": {},
          "execution_count": 4
        }
      ]
    },
    {
      "cell_type": "code",
      "source": [
        "lista_total = lista_s1 + lista_s2"
      ],
      "metadata": {
        "id": "yd-lm6NUEzwM"
      },
      "execution_count": 5,
      "outputs": []
    },
    {
      "cell_type": "code",
      "source": [
        "lista_total"
      ],
      "metadata": {
        "colab": {
          "base_uri": "https://localhost:8080/"
        },
        "id": "ek6sv_aEE7Rt",
        "outputId": "0215ca0c-2ce0-4968-8581-c38857f4d04f"
      },
      "execution_count": 6,
      "outputs": [
        {
          "output_type": "execute_result",
          "data": {
            "text/plain": [
              "[34, 32, 56, 21, 90, 51]"
            ]
          },
          "metadata": {},
          "execution_count": 6
        }
      ]
    },
    {
      "cell_type": "markdown",
      "source": [
        "**Operador in**"
      ],
      "metadata": {
        "id": "x5aRZz5HFE8o"
      }
    },
    {
      "cell_type": "code",
      "source": [
        "# Criando uma lista\n",
        "lista_teste_op = [100,2,-5,3.4]"
      ],
      "metadata": {
        "id": "dRLPLbtyFs_T"
      },
      "execution_count": 13,
      "outputs": []
    },
    {
      "cell_type": "code",
      "source": [
        "# Verificando se o valor 10 pertence a lista\n",
        "print(10 in lista_teste_op)"
      ],
      "metadata": {
        "colab": {
          "base_uri": "https://localhost:8080/"
        },
        "id": "FjyE_3wRI60c",
        "outputId": "93b224ce-5e5d-4e06-fb3d-b9bccf0d70c5"
      },
      "execution_count": 8,
      "outputs": [
        {
          "output_type": "stream",
          "name": "stdout",
          "text": [
            "False\n"
          ]
        }
      ]
    },
    {
      "cell_type": "code",
      "source": [
        "# Verificando se o valor 100 pertence a lista\n",
        "print(100 in lista_teste_op)"
      ],
      "metadata": {
        "colab": {
          "base_uri": "https://localhost:8080/"
        },
        "id": "ZtobyQNWJHgH",
        "outputId": "46af04cb-8146-4655-d0bc-7dfc2a5a1d74"
      },
      "execution_count": 9,
      "outputs": [
        {
          "output_type": "stream",
          "name": "stdout",
          "text": [
            "True\n"
          ]
        }
      ]
    },
    {
      "cell_type": "markdown",
      "source": [
        "**Funções Built-in**"
      ],
      "metadata": {
        "id": "lx9uULA-JU0Y"
      }
    },
    {
      "cell_type": "code",
      "source": [
        "# Criando uma lista\n",
        "lista_numerosa = [10,20,50,-3.4]"
      ],
      "metadata": {
        "id": "5vSVi7VYJZt6"
      },
      "execution_count": 20,
      "outputs": []
    },
    {
      "cell_type": "code",
      "source": [
        "# Função len() retorna o comprimento da lista\n",
        "len(lista_numerosa)"
      ],
      "metadata": {
        "colab": {
          "base_uri": "https://localhost:8080/"
        },
        "id": "NHP-mgDIJiRc",
        "outputId": "5d641c2f-f8a2-4106-c849-c641438bbae8"
      },
      "execution_count": 21,
      "outputs": [
        {
          "output_type": "execute_result",
          "data": {
            "text/plain": [
              "4"
            ]
          },
          "metadata": {},
          "execution_count": 21
        }
      ]
    },
    {
      "cell_type": "code",
      "source": [
        "# Função max() retorna o valor máximo da lista\n",
        "max(lista_numerosa)"
      ],
      "metadata": {
        "colab": {
          "base_uri": "https://localhost:8080/"
        },
        "id": "0suwgVUKJxIr",
        "outputId": "59990d90-1e6d-4337-f1d2-d3abd7a009cf"
      },
      "execution_count": 22,
      "outputs": [
        {
          "output_type": "execute_result",
          "data": {
            "text/plain": [
              "50"
            ]
          },
          "metadata": {},
          "execution_count": 22
        }
      ]
    },
    {
      "cell_type": "code",
      "source": [
        "# Função min() retprna o valor mínimo da lista\n",
        "min(lista_numerosa)"
      ],
      "metadata": {
        "colab": {
          "base_uri": "https://localhost:8080/"
        },
        "id": "LAvMkX_uLbXK",
        "outputId": "57d43a85-90dd-4852-e643-9d998726dc2e"
      },
      "execution_count": 23,
      "outputs": [
        {
          "output_type": "execute_result",
          "data": {
            "text/plain": [
              "-3.4"
            ]
          },
          "metadata": {},
          "execution_count": 23
        }
      ]
    },
    {
      "cell_type": "code",
      "source": [
        "# Criando uma lista\n",
        "lista_formacoes_dsa = [\"Analista de Dados\", \"Ciências de Dados\", \"Engenheiro de Dados\"]"
      ],
      "metadata": {
        "id": "OcEvMgn2LtLx"
      },
      "execution_count": 26,
      "outputs": []
    },
    {
      "cell_type": "code",
      "source": [
        "lista_formacoes_dsa"
      ],
      "metadata": {
        "colab": {
          "base_uri": "https://localhost:8080/"
        },
        "id": "wGIYHd2-Mnjk",
        "outputId": "845b5ead-9869-4b64-c19f-b103fd5a3bee"
      },
      "execution_count": 27,
      "outputs": [
        {
          "output_type": "execute_result",
          "data": {
            "text/plain": [
              "['Analista de Dados', 'Ciências de Dados', 'Engenheiro de Dados']"
            ]
          },
          "metadata": {},
          "execution_count": 27
        }
      ]
    },
    {
      "cell_type": "code",
      "source": [
        "# Adicionando um item à lista\n",
        "lista_formacoes_dsa.append(\"Engenheiro de IA\")"
      ],
      "metadata": {
        "id": "MHyp-nB8L_aO"
      },
      "execution_count": 28,
      "outputs": []
    },
    {
      "cell_type": "code",
      "source": [
        "lista_formacoes_dsa"
      ],
      "metadata": {
        "colab": {
          "base_uri": "https://localhost:8080/"
        },
        "id": "u9Eqr4QVMLqA",
        "outputId": "98d0d8d6-3021-4155-a99b-6dd9cbf179ef"
      },
      "execution_count": 29,
      "outputs": [
        {
          "output_type": "execute_result",
          "data": {
            "text/plain": [
              "['Analista de Dados',\n",
              " 'Ciências de Dados',\n",
              " 'Engenheiro de Dados',\n",
              " 'Engenheiro de IA']"
            ]
          },
          "metadata": {},
          "execution_count": 29
        }
      ]
    },
    {
      "cell_type": "code",
      "source": [
        "# Adicionando um item à lista\n",
        "lista_formacoes_dsa.append(\"Engenheiro de IA\")"
      ],
      "metadata": {
        "id": "B6tPukdvOIdM"
      },
      "execution_count": 33,
      "outputs": []
    },
    {
      "cell_type": "code",
      "source": [
        "lista_formacoes_dsa"
      ],
      "metadata": {
        "colab": {
          "base_uri": "https://localhost:8080/"
        },
        "id": "VR-ZO6ukOO3g",
        "outputId": "12deb8ae-4ea4-4084-9c0c-6a08c2b88d87"
      },
      "execution_count": 34,
      "outputs": [
        {
          "output_type": "execute_result",
          "data": {
            "text/plain": [
              "['Analista de Dados',\n",
              " 'Ciências de Dados',\n",
              " 'Engenheiro de Dados',\n",
              " 'Engenheiro de IA',\n",
              " 'Engenheiro de IA']"
            ]
          },
          "metadata": {},
          "execution_count": 34
        }
      ]
    },
    {
      "cell_type": "code",
      "source": [
        "lista_formacoes_dsa.count(\"Engenheiro de IA\")"
      ],
      "metadata": {
        "colab": {
          "base_uri": "https://localhost:8080/"
        },
        "id": "7S7ogAsKOQ76",
        "outputId": "8142ff0a-70bf-4af3-f777-597088ecd9f6"
      },
      "execution_count": 36,
      "outputs": [
        {
          "output_type": "execute_result",
          "data": {
            "text/plain": [
              "2"
            ]
          },
          "metadata": {},
          "execution_count": 36
        }
      ]
    },
    {
      "cell_type": "code",
      "source": [
        "# Criando uma lista vazia\n",
        "a = []"
      ],
      "metadata": {
        "id": "764GilDwNp1d"
      },
      "execution_count": 30,
      "outputs": []
    },
    {
      "cell_type": "code",
      "source": [
        "print(a)"
      ],
      "metadata": {
        "colab": {
          "base_uri": "https://localhost:8080/"
        },
        "id": "vCpsNjeZNvHq",
        "outputId": "2b36bd3a-dc18-40f6-c8ce-d191a728d436"
      },
      "execution_count": 31,
      "outputs": [
        {
          "output_type": "stream",
          "name": "stdout",
          "text": [
            "[]\n"
          ]
        }
      ]
    },
    {
      "cell_type": "code",
      "source": [
        "type(a)"
      ],
      "metadata": {
        "colab": {
          "base_uri": "https://localhost:8080/"
        },
        "id": "XFU8T8lxNx75",
        "outputId": "a5bc5d55-e1fa-44fc-a89d-e82b70e2535c"
      },
      "execution_count": 32,
      "outputs": [
        {
          "output_type": "execute_result",
          "data": {
            "text/plain": [
              "list"
            ]
          },
          "metadata": {},
          "execution_count": 32
        }
      ]
    },
    {
      "cell_type": "code",
      "source": [
        "a.append(10)"
      ],
      "metadata": {
        "id": "09qRcnpOOlI3"
      },
      "execution_count": 37,
      "outputs": []
    },
    {
      "cell_type": "code",
      "source": [
        "a"
      ],
      "metadata": {
        "colab": {
          "base_uri": "https://localhost:8080/"
        },
        "id": "VD7_Rhk_OoyR",
        "outputId": "4324a11a-d175-4b75-8867-1436a9baa887"
      },
      "execution_count": 38,
      "outputs": [
        {
          "output_type": "execute_result",
          "data": {
            "text/plain": [
              "[10]"
            ]
          },
          "metadata": {},
          "execution_count": 38
        }
      ]
    },
    {
      "cell_type": "code",
      "source": [
        "a.append(50)"
      ],
      "metadata": {
        "id": "ULerQ4ALOqfx"
      },
      "execution_count": 39,
      "outputs": []
    },
    {
      "cell_type": "code",
      "source": [
        "a"
      ],
      "metadata": {
        "colab": {
          "base_uri": "https://localhost:8080/"
        },
        "id": "hIEg-0YkOtha",
        "outputId": "f44564b7-3577-4f8f-f7aa-264d67d66cc0"
      },
      "execution_count": 40,
      "outputs": [
        {
          "output_type": "execute_result",
          "data": {
            "text/plain": [
              "[10, 50]"
            ]
          },
          "metadata": {},
          "execution_count": 40
        }
      ]
    },
    {
      "cell_type": "code",
      "source": [
        "old_list = [1,2,5,10]"
      ],
      "metadata": {
        "id": "bcsQOwoaO3kq"
      },
      "execution_count": 41,
      "outputs": []
    },
    {
      "cell_type": "code",
      "source": [
        "new_list = []"
      ],
      "metadata": {
        "id": "14cPdxRBO8Qu"
      },
      "execution_count": 42,
      "outputs": []
    },
    {
      "cell_type": "code",
      "source": [
        "# Copiando os itens de uma lista para outra\n",
        "for item in old_list:\n",
        "  new_list.append(item)"
      ],
      "metadata": {
        "id": "DtpFHCPaPCG7"
      },
      "execution_count": 43,
      "outputs": []
    },
    {
      "cell_type": "code",
      "source": [
        "new_list"
      ],
      "metadata": {
        "colab": {
          "base_uri": "https://localhost:8080/"
        },
        "id": "x44r07pRPV5l",
        "outputId": "b704fb27-f4e5-4f5e-85b0-5c3ff551456c"
      },
      "execution_count": 44,
      "outputs": [
        {
          "output_type": "execute_result",
          "data": {
            "text/plain": [
              "[1, 2, 5, 10]"
            ]
          },
          "metadata": {},
          "execution_count": 44
        }
      ]
    },
    {
      "cell_type": "code",
      "source": [
        "cidades = ['Recife', 'Manaus', 'Salvador']\n",
        "cidades.extend(['Fortaleza', 'Palmas'])\n",
        "print(cidades)"
      ],
      "metadata": {
        "colab": {
          "base_uri": "https://localhost:8080/"
        },
        "id": "nCFoLSXaPZto",
        "outputId": "9986d693-4318-4767-bb50-02e1bba00b2e"
      },
      "execution_count": 45,
      "outputs": [
        {
          "output_type": "stream",
          "name": "stdout",
          "text": [
            "['Recife', 'Manaus', 'Salvador', 'Fortaleza', 'Palmas']\n"
          ]
        }
      ]
    },
    {
      "cell_type": "code",
      "source": [
        "cidades.index('Salvador')"
      ],
      "metadata": {
        "colab": {
          "base_uri": "https://localhost:8080/"
        },
        "id": "GZx9UVwpPwqn",
        "outputId": "f1df1d17-9157-452d-e00b-22443bc8fd4e"
      },
      "execution_count": 46,
      "outputs": [
        {
          "output_type": "execute_result",
          "data": {
            "text/plain": [
              "2"
            ]
          },
          "metadata": {},
          "execution_count": 46
        }
      ]
    },
    {
      "cell_type": "code",
      "source": [
        "cidades.insert(2,110)"
      ],
      "metadata": {
        "id": "cQ5VSw0AQN3I"
      },
      "execution_count": 56,
      "outputs": []
    },
    {
      "cell_type": "code",
      "source": [
        "cidades"
      ],
      "metadata": {
        "colab": {
          "base_uri": "https://localhost:8080/"
        },
        "id": "2fe-BeYVQUBe",
        "outputId": "5643d813-941a-4e6f-b1ae-b590fbb2ffb7"
      },
      "execution_count": 57,
      "outputs": [
        {
          "output_type": "execute_result",
          "data": {
            "text/plain": [
              "['Palmas', 'Fortaleza', 110, 'Salvador', 'Manaus', 'Recife']"
            ]
          },
          "metadata": {},
          "execution_count": 57
        }
      ]
    },
    {
      "cell_type": "code",
      "source": [
        "# Remove um item da lista\n",
        "cidades.remove(110)"
      ],
      "metadata": {
        "id": "N-7QkPFtRDxU"
      },
      "execution_count": 58,
      "outputs": []
    },
    {
      "cell_type": "code",
      "source": [
        "cidades"
      ],
      "metadata": {
        "colab": {
          "base_uri": "https://localhost:8080/"
        },
        "id": "YACQ6hNjRY-d",
        "outputId": "a2e5c9d3-87d9-4fe9-a9c7-5ed2bd968d87"
      },
      "execution_count": 59,
      "outputs": [
        {
          "output_type": "execute_result",
          "data": {
            "text/plain": [
              "['Palmas', 'Fortaleza', 'Salvador', 'Manaus', 'Recife']"
            ]
          },
          "metadata": {},
          "execution_count": 59
        }
      ]
    },
    {
      "cell_type": "code",
      "source": [
        "# Reverte a lista\n",
        "cidades.reverse()"
      ],
      "metadata": {
        "id": "U7XEyYdtRbFe"
      },
      "execution_count": 60,
      "outputs": []
    },
    {
      "cell_type": "code",
      "source": [
        "cidades"
      ],
      "metadata": {
        "colab": {
          "base_uri": "https://localhost:8080/"
        },
        "id": "gIS_D8OxRgkf",
        "outputId": "b50e9c9a-f7c9-4235-983f-888f17e8bcac"
      },
      "execution_count": 61,
      "outputs": [
        {
          "output_type": "execute_result",
          "data": {
            "text/plain": [
              "['Recife', 'Manaus', 'Salvador', 'Fortaleza', 'Palmas']"
            ]
          },
          "metadata": {},
          "execution_count": 61
        }
      ]
    },
    {
      "cell_type": "code",
      "source": [
        "x = [3,4,2,1]"
      ],
      "metadata": {
        "id": "-7_cJBEKRj-C"
      },
      "execution_count": 62,
      "outputs": []
    },
    {
      "cell_type": "code",
      "source": [
        "x"
      ],
      "metadata": {
        "colab": {
          "base_uri": "https://localhost:8080/"
        },
        "id": "FpDbeil3UO8-",
        "outputId": "8fab270d-6cfe-41da-b745-19226ebfb4c1"
      },
      "execution_count": 63,
      "outputs": [
        {
          "output_type": "execute_result",
          "data": {
            "text/plain": [
              "[3, 4, 2, 1]"
            ]
          },
          "metadata": {},
          "execution_count": 63
        }
      ]
    },
    {
      "cell_type": "code",
      "source": [
        "# Ordena a lista\n",
        "x.sort()"
      ],
      "metadata": {
        "id": "GMXVJnVcUQzB"
      },
      "execution_count": 64,
      "outputs": []
    },
    {
      "cell_type": "code",
      "source": [
        "x"
      ],
      "metadata": {
        "colab": {
          "base_uri": "https://localhost:8080/"
        },
        "id": "LxEAgRCFUWnU",
        "outputId": "13bf15b9-8504-4657-938a-52c2692dbfed"
      },
      "execution_count": 65,
      "outputs": [
        {
          "output_type": "execute_result",
          "data": {
            "text/plain": [
              "[1, 2, 3, 4]"
            ]
          },
          "metadata": {},
          "execution_count": 65
        }
      ]
    }
  ]
}